{
 "cells": [
  {
   "cell_type": "code",
   "execution_count": 3,
   "metadata": {},
   "outputs": [
    {
     "name": "stdout",
     "output_type": "stream",
     "text": [
      "631.05\n"
     ]
    }
   ],
   "source": [
    "# Set the price\n",
    "price = 24.95\n",
    "\n",
    "# Set the discount in percent\n",
    "discount = 40\n",
    "\n",
    "# Set the shipping cost\n",
    "shipping_first = 3.00\n",
    "shipping_additional = 0.75\n",
    "\n",
    "# Set the number of copies\n",
    "copies = 40\n",
    "\n",
    "# Price per copy\n",
    "copy_price = price - (price/100*discount)\n",
    "\n",
    "# Cost calculation: All copies at discounted price, plus shipping\n",
    "wholesale_cost = copies * copy_price + shipping_first + shipping_additional*(copies-1)\n",
    "\n",
    "print(wholesale_cost)"
   ]
  },
  {
   "cell_type": "code",
   "execution_count": null,
   "metadata": {},
   "outputs": [],
   "source": []
  }
 ],
 "metadata": {
  "kernelspec": {
   "display_name": "Python 3",
   "language": "python",
   "name": "python3"
  },
  "language_info": {
   "codemirror_mode": {
    "name": "ipython",
    "version": 3
   },
   "file_extension": ".py",
   "mimetype": "text/x-python",
   "name": "python",
   "nbconvert_exporter": "python",
   "pygments_lexer": "ipython3",
   "version": "3.8.3"
  }
 },
 "nbformat": 4,
 "nbformat_minor": 4
}
