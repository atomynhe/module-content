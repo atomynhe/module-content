{
 "cells": [
  {
   "cell_type": "markdown",
   "metadata": {},
   "source": [
    "Recap:\n",
    "\n",
    "  * data (computational representations of things)\n",
    "  * assignments (the ability to give names to values and save them)\n",
    "  * Operators - doing mathematical operations on numbers eg. Comparison and strings as well\n",
    "  * conditionals (make judgements and decisions if, elif, else) I\n",
    "  * input/output (print, input to communicate with the outside world)\n",
    "  * loop structures (the basic recipes while, for)\n",
    "  * Functions and libraries\n",
    "\n"
   ]
  },
  {
   "cell_type": "code",
   "execution_count": null,
   "metadata": {},
   "outputs": [],
   "source": [
    "# Start!\n",
    "print('hello world')"
   ]
  },
  {
   "cell_type": "code",
   "execution_count": null,
   "metadata": {},
   "outputs": [],
   "source": [
    "# Data. Numbers: int, float.  Strings, booleans\n",
    "# The type() command helps you work out what type you actually have\n",
    "type(1)"
   ]
  },
  {
   "cell_type": "code",
   "execution_count": null,
   "metadata": {},
   "outputs": [],
   "source": [
    "# assignments\n",
    "# Give names or labels to areas of memory that can have different values at different times during your program\n",
    "# variables need to have types, but in python, the type is inferred from the first value assigned\n",
    "var1 = 2\n",
    "var1 = 3\n",
    "var2 = 'this is a string'\n",
    "type(var2)"
   ]
  },
  {
   "cell_type": "code",
   "execution_count": null,
   "metadata": {},
   "outputs": [],
   "source": [
    "# Operators\n",
    "# Arithmetic: + - / *\n",
    "# Comparison: < > ==\n",
    "# You can do maths with python, just like a calculator\n",
    "var1 = 1\n",
    "var2 = 5"
   ]
  },
  {
   "cell_type": "code",
   "execution_count": null,
   "metadata": {},
   "outputs": [],
   "source": [
    "# The + operator is special, because it behaves differently for strings and numbers\n",
    "# For numbers: arithmetic addtion\n",
    "# For strings: concatenation\n",
    "int_var = 5\n",
    "string_var = '5444'\n",
    "result = int_var * string_var\n",
    "result"
   ]
  },
  {
   "cell_type": "code",
   "execution_count": null,
   "metadata": {},
   "outputs": [],
   "source": [
    "# Conditionals: allow branching in your programs\n",
    "# if, else\n",
    "# if, elif, else  \n",
    "name = 'Lisa'\n",
    "if name == 'Lisa': \n",
    "    print('Thats me')\n",
    "    print('another line')\n",
    "    name = name + 'xxx'\n",
    "elif name == 'Haskel':\n",
    "    print('That is also me')\n",
    "    print('the second branch')\n",
    "else:\n",
    "    print('Not me')\n",
    "\n",
    "print('always prints')\n",
    "name\n"
   ]
  },
  {
   "cell_type": "code",
   "execution_count": null,
   "metadata": {},
   "outputs": [],
   "source": [
    "var_1 = 56\n",
    "var_2 = 7\n",
    "if var_1 < var_2 :\n",
    "    print('its less')\n",
    "else:\n",
    "    print('its more')"
   ]
  },
  {
   "cell_type": "code",
   "execution_count": null,
   "metadata": {},
   "outputs": [],
   "source": [
    "# Input() and print() commands allow you to communicate with your users.  \n",
    "# Mind out!  assignments from input() is always a string\n"
   ]
  },
  {
   "cell_type": "code",
   "execution_count": 3,
   "metadata": {},
   "outputs": [
    {
     "name": "stdout",
     "output_type": "stream",
     "text": [
      "1\n",
      "2\n",
      "3\n",
      "4\n",
      "5\n",
      "6\n",
      "7\n",
      "8\n",
      "9\n",
      "10\n"
     ]
    }
   ],
   "source": [
    "# Loops allow you to repeat sections of your program\n",
    "# While loops use a comparison operator to know when to stop. You usually need a counter of some kind.\n",
    "\n",
    "max = 10\n",
    "n = 1\n",
    "while n < max + 1:\n",
    "    print(n)\n",
    "    n = n + 1"
   ]
  },
  {
   "cell_type": "code",
   "execution_count": 13,
   "metadata": {},
   "outputs": [
    {
     "name": "stdout",
     "output_type": "stream",
     "text": [
      "12345678910"
     ]
    }
   ],
   "source": [
    "# For loops make use of data structures such as lists, and iterate over each element until done.\n",
    "# A variable is assigned to each element as the loop passes over it\n",
    "\n",
    "my_list = range(1,11)\n",
    "for n in my_list :\n",
    "    print(n, end='')"
   ]
  },
  {
   "cell_type": "code",
   "execution_count": 19,
   "metadata": {},
   "outputs": [
    {
     "name": "stdout",
     "output_type": "stream",
     "text": [
      "0\n"
     ]
    }
   ],
   "source": [
    "# Code can be made re-usable\n",
    "# Libraries are code written by others.  Include them using an import statemen\n",
    "# # Get library documentation: https://docs.python.org/3.0/library/math.html\n",
    "\n",
    "\n",
    "n = 12\n",
    "remainder = n % 3\n",
    "print(remainder)\n"
   ]
  },
  {
   "cell_type": "code",
   "execution_count": null,
   "metadata": {},
   "outputs": [],
   "source": [
    "# Functions you create yourself to improve the design of your code.\n",
    "# They need to follow some rules\n",
    "# input -> FUNCTION -> output\n",
    "# functions are called from the main() or other functions in your program"
   ]
  }
 ],
 "metadata": {
  "kernelspec": {
   "display_name": "Python 3",
   "language": "python",
   "name": "python3"
  },
  "language_info": {
   "codemirror_mode": {
    "name": "ipython",
    "version": 3
   },
   "file_extension": ".py",
   "mimetype": "text/x-python",
   "name": "python",
   "nbconvert_exporter": "python",
   "pygments_lexer": "ipython3",
   "version": "3.8.3"
  }
 },
 "nbformat": 4,
 "nbformat_minor": 4
}
